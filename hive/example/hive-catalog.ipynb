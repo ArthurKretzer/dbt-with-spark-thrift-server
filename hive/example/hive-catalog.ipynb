{
 "cells": [
  {
   "cell_type": "markdown",
   "id": "450929e8",
   "metadata": {},
   "source": [
    "# Hive Catalog\n",
    "\n",
    "This notebook provides an example of external table registration on Hive Metastore and Delta table interaction."
   ]
  },
  {
   "cell_type": "code",
   "execution_count": 1,
   "id": "1827785a-913a-4862-bce8-c8ea17ae845c",
   "metadata": {
    "execution": {
     "iopub.execute_input": "2025-04-29T11:59:38.038342Z",
     "iopub.status.busy": "2025-04-29T11:59:38.037751Z",
     "iopub.status.idle": "2025-04-29T11:59:52.901568Z",
     "shell.execute_reply": "2025-04-29T11:59:52.900378Z",
     "shell.execute_reply.started": "2025-04-29T11:59:38.038303Z"
    }
   },
   "outputs": [
    {
     "name": "stdout",
     "output_type": "stream",
     "text": [
      "Initializing spark...\n",
      "admin\n",
      "password\n"
     ]
    },
    {
     "name": "stderr",
     "output_type": "stream",
     "text": [
      "your 131072x1 screen size is bogus. expect trouble\n",
      "25/08/12 10:27:13 WARN Utils: Your hostname, CPC-12806 resolves to a loopback address: 127.0.1.1; using 172.26.242.248 instead (on interface eth0)\n",
      "25/08/12 10:27:13 WARN Utils: Set SPARK_LOCAL_IP if you need to bind to another address\n"
     ]
    },
    {
     "name": "stdout",
     "output_type": "stream",
     "text": [
      ":: loading settings :: url = jar:file:/home/arthur/dev/dbt-test/.venv/lib/python3.13/site-packages/pyspark/jars/ivy-2.5.1.jar!/org/apache/ivy/core/settings/ivysettings.xml\n"
     ]
    },
    {
     "name": "stderr",
     "output_type": "stream",
     "text": [
      "Ivy Default Cache set to: /home/arthur/.ivy2/cache\n",
      "The jars for the packages stored in: /home/arthur/.ivy2/jars\n",
      "org.apache.hadoop#hadoop-aws added as a dependency\n",
      "io.delta#delta-spark_2.12 added as a dependency\n",
      "org.apache.iceberg#iceberg-spark-runtime-3.5_2.12 added as a dependency\n",
      ":: resolving dependencies :: org.apache.spark#spark-submit-parent-c0bf6ecc-e09d-44e2-b9fa-6538065c9ce7;1.0\n",
      "\tconfs: [default]\n",
      "\tfound org.apache.hadoop#hadoop-aws;3.3.4 in central\n",
      "\tfound com.amazonaws#aws-java-sdk-bundle;1.12.262 in central\n",
      "\tfound org.wildfly.openssl#wildfly-openssl;1.0.7.Final in central\n",
      "\tfound io.delta#delta-spark_2.12;3.3.0 in central\n",
      "\tfound io.delta#delta-storage;3.3.0 in central\n",
      "\tfound org.antlr#antlr4-runtime;4.9.3 in central\n",
      "\tfound org.apache.iceberg#iceberg-spark-runtime-3.5_2.12;1.8.1 in central\n",
      ":: resolution report :: resolve 265ms :: artifacts dl 16ms\n",
      "\t:: modules in use:\n",
      "\tcom.amazonaws#aws-java-sdk-bundle;1.12.262 from central in [default]\n",
      "\tio.delta#delta-spark_2.12;3.3.0 from central in [default]\n",
      "\tio.delta#delta-storage;3.3.0 from central in [default]\n",
      "\torg.antlr#antlr4-runtime;4.9.3 from central in [default]\n",
      "\torg.apache.hadoop#hadoop-aws;3.3.4 from central in [default]\n",
      "\torg.apache.iceberg#iceberg-spark-runtime-3.5_2.12;1.8.1 from central in [default]\n",
      "\torg.wildfly.openssl#wildfly-openssl;1.0.7.Final from central in [default]\n",
      "\t---------------------------------------------------------------------\n",
      "\t|                  |            modules            ||   artifacts   |\n",
      "\t|       conf       | number| search|dwnlded|evicted|| number|dwnlded|\n",
      "\t---------------------------------------------------------------------\n",
      "\t|      default     |   7   |   0   |   0   |   0   ||   7   |   0   |\n",
      "\t---------------------------------------------------------------------\n",
      ":: retrieving :: org.apache.spark#spark-submit-parent-c0bf6ecc-e09d-44e2-b9fa-6538065c9ce7\n",
      "\tconfs: [default]\n",
      "\t0 artifacts copied, 7 already retrieved (0kB/6ms)\n",
      "25/08/12 10:27:14 WARN NativeCodeLoader: Unable to load native-hadoop library for your platform... using builtin-java classes where applicable\n",
      "Setting default log level to \"WARN\".\n",
      "To adjust logging level use sc.setLogLevel(newLevel). For SparkR, use setLogLevel(newLevel).\n",
      "25/08/12 10:27:15 WARN Utils: Service 'SparkUI' could not bind on port 4040. Attempting port 4041.\n",
      "25/08/12 10:27:15 WARN Utils: Service 'SparkUI' could not bind on port 4041. Attempting port 4042.\n"
     ]
    }
   ],
   "source": [
    "import os\n",
    "\n",
    "from dotenv import load_dotenv, find_dotenv\n",
    "from pyspark.sql import SparkSession\n",
    "\n",
    "load_dotenv(find_dotenv(\"../.env\", raise_error_if_not_found=True))\n",
    "\n",
    "os.environ[\"PYSPARK_SUBMIT_ARGS\"] = (\n",
    "            \"--packages org.apache.hadoop:hadoop-aws:3.3.4,io.delta:delta-spark_2.12:3.3.0,org.apache.iceberg:iceberg-spark-runtime-3.5_2.12:1.8.1 pyspark-shell\"\n",
    "        )\n",
    "\n",
    "print(\"Initializing spark...\")\n",
    "print(os.getenv(\"AWS_ACCESS_KEY_ID\"))\n",
    "print(os.getenv(\"AWS_SECRET_ACCESS_KEY\"))\n",
    "spark = (\n",
    "    SparkSession.builder.appName(\"Test\")\n",
    "    .config(\"spark.sql.extensions\", \"io.delta.sql.DeltaSparkSessionExtension,org.apache.iceberg.spark.extensions.IcebergSparkSessionExtensions\")\n",
    "    .config(\"spark.sql.catalog.spark_catalog\", \"org.apache.spark.sql.delta.catalog.DeltaCatalog\")\n",
    "    .config(\"spark.sql.catalog.spark_catalog.uri\", \"thrift://localhost:9083\")\n",
    "    .config('spark.sql.catalog.spark_catalog.warehouse', \"s3a://lakehouse/\")\n",
    "    .config(\"spark.sql.catalog.iceberg\", \"org.apache.iceberg.spark.SparkCatalog\")\n",
    "    .config(\"spark.sql.catalog.iceberg.type\", \"hive\")\n",
    "    .config(\"spark.sql.catalog.iceberg.uri\", \"thrift://localhost:9083\")\n",
    "    .config(\"spark.sql.catalog.iceberg.warehouse\", \"s3a://lakehouse/\")\n",
    "    .config(\"spark.hive.metastore.uris\", \"thrift://localhost:9083\")\n",
    "    .config(\"spark.sql.catalogImplementation\", \"hive\")\n",
    "    .config('spark.sql.warehouse.dir', \"s3a://lakehouse/\")\n",
    "    .config(\"spark.hadoop.fs.s3a.endpoint\", \"http://localhost:9000\")\n",
    "    .config(\"spark.hadoop.fs.s3a.access.key\", os.getenv(\"AWS_ACCESS_KEY_ID\"))\n",
    "    .config(\"spark.hadoop.fs.s3a.secret.key\", os.getenv(\"AWS_SECRET_ACCESS_KEY\"))\n",
    "    .config(\"spark.hadoop.fs.s3a.path.style.access\", \"true\")\n",
    "    .config(\"spark.hadoop.fs.s3a.impl\", \"org.apache.hadoop.fs.s3a.S3AFileSystem\")\n",
    "    .config(\"spark.executor.memory\", \"2g\")\n",
    "    .config(\"spark.driver.memory\", \"2g\")\n",
    "    .getOrCreate()\n",
    ")\n",
    "\n",
    "sc = spark.sparkContext\n",
    "sc.setLogLevel(\"WARN\")"
   ]
  },
  {
   "cell_type": "code",
   "execution_count": 2,
   "id": "0417de10-6b37-49b6-a3bc-15d5e6c42841",
   "metadata": {
    "execution": {
     "iopub.execute_input": "2025-04-29T12:01:42.507885Z",
     "iopub.status.busy": "2025-04-29T12:01:42.503328Z",
     "iopub.status.idle": "2025-04-29T12:01:42.720793Z",
     "shell.execute_reply": "2025-04-29T12:01:42.719265Z",
     "shell.execute_reply.started": "2025-04-29T12:01:42.507836Z"
    }
   },
   "outputs": [
    {
     "name": "stderr",
     "output_type": "stream",
     "text": [
      "25/08/12 10:27:18 WARN MetricsConfig: Cannot locate configuration: tried hadoop-metrics2-s3a-file-system.properties,hadoop-metrics2.properties\n"
     ]
    },
    {
     "name": "stdout",
     "output_type": "stream",
     "text": [
      "+-------------+\n",
      "|      catalog|\n",
      "+-------------+\n",
      "|spark_catalog|\n",
      "+-------------+\n",
      "\n"
     ]
    }
   ],
   "source": [
    "spark.sql(\"SHOW CATALOGS;\").show()"
   ]
  },
  {
   "cell_type": "markdown",
   "id": "5332547c",
   "metadata": {},
   "source": [
    "Iceberg catalog will only appear after first used.\n",
    "\n",
    "To choose between catalogs, you must pass the full table name with catalog and schema names."
   ]
  },
  {
   "cell_type": "code",
   "execution_count": 3,
   "id": "d0ef621f",
   "metadata": {},
   "outputs": [
    {
     "name": "stderr",
     "output_type": "stream",
     "text": [
      "25/08/12 10:27:23 WARN HiveExternalCatalog: Couldn't find corresponding Hive SerDe for data source provider delta. Persisting data source table `spark_catalog`.`default`.`sample_delta` into Hive metastore in Spark SQL specific format, which is NOT compatible with Hive.\n",
      "25/08/12 10:27:23 WARN SessionState: METASTORE_FILTER_HOOK will be ignored, since hive.security.authorization.manager is set to instance of HiveAuthorizerFactory.\n"
     ]
    },
    {
     "data": {
      "text/plain": [
       "DataFrame[]"
      ]
     },
     "execution_count": 3,
     "metadata": {},
     "output_type": "execute_result"
    }
   ],
   "source": [
    "spark.sql(\"\"\"\n",
    "    CREATE TABLE IF NOT EXISTS spark_catalog.default.sample_delta (\n",
    "        id INT,\n",
    "        name STRING\n",
    "    )\n",
    "    USING delta\n",
    "    LOCATION 's3a://lakehouse/delta/sample_delta';\n",
    "\"\"\"\n",
    ")"
   ]
  },
  {
   "cell_type": "code",
   "execution_count": 4,
   "id": "c8caaf89",
   "metadata": {},
   "outputs": [
    {
     "name": "stderr",
     "output_type": "stream",
     "text": [
      "25/08/12 10:27:27 WARN SparkStringUtils: Truncated the string representation of a plan since it was too large. This behavior can be adjusted by setting 'spark.sql.debug.maxToStringFields'.\n",
      "                                                                                \r"
     ]
    },
    {
     "data": {
      "text/plain": [
       "DataFrame[]"
      ]
     },
     "execution_count": 4,
     "metadata": {},
     "output_type": "execute_result"
    }
   ],
   "source": [
    "spark.sql(\"\"\"\n",
    "INSERT INTO spark_catalog.default.sample_delta VALUES\n",
    "    (1, 'Alice'),\n",
    "    (2, 'Bob'),\n",
    "    (3, 'Charlie');\n",
    "\"\"\")"
   ]
  },
  {
   "cell_type": "code",
   "execution_count": 5,
   "id": "fea9aeca",
   "metadata": {},
   "outputs": [
    {
     "name": "stderr",
     "output_type": "stream",
     "text": [
      "                                                                                \r"
     ]
    },
    {
     "name": "stdout",
     "output_type": "stream",
     "text": [
      "+---+-------+\n",
      "| id|   name|\n",
      "+---+-------+\n",
      "|  3|Charlie|\n",
      "|  3|Charlie|\n",
      "|  1|  Alice|\n",
      "|  1|  Alice|\n",
      "|  2|    Bob|\n",
      "|  2|    Bob|\n",
      "+---+-------+\n",
      "\n"
     ]
    }
   ],
   "source": [
    "spark.sql(\"SELECT * FROM spark_catalog.default.sample_delta;\").show()"
   ]
  },
  {
   "cell_type": "code",
   "execution_count": 6,
   "id": "310a2fb1",
   "metadata": {},
   "outputs": [
    {
     "data": {
      "text/plain": [
       "DataFrame[]"
      ]
     },
     "execution_count": 6,
     "metadata": {},
     "output_type": "execute_result"
    }
   ],
   "source": [
    "spark.sql(\"\"\"\n",
    "    CREATE TABLE IF NOT EXISTS iceberg.default.sample_iceberg (\n",
    "        id INT,\n",
    "        name STRING\n",
    "    )\n",
    "    USING iceberg\n",
    "    LOCATION 's3a://lakehouse/iceberg/sample_iceberg';\n",
    "\"\"\"\n",
    ")"
   ]
  },
  {
   "cell_type": "code",
   "execution_count": 7,
   "id": "a312f358",
   "metadata": {},
   "outputs": [
    {
     "name": "stderr",
     "output_type": "stream",
     "text": [
      "25/08/12 10:27:36 WARN S3ABlockOutputStream: Application invoked the Syncable API against stream writing to iceberg/sample_iceberg/data/00001-167-5355873d-9e2c-4212-9c5a-0348b2a7566b-0-00001.parquet. This is unsupported\n",
      "                                                                                \r"
     ]
    },
    {
     "data": {
      "text/plain": [
       "DataFrame[]"
      ]
     },
     "execution_count": 7,
     "metadata": {},
     "output_type": "execute_result"
    }
   ],
   "source": [
    "spark.sql(\"\"\"\n",
    "INSERT INTO iceberg.default.sample_iceberg VALUES\n",
    "    (1, 'Alice'),\n",
    "    (2, 'Bob'),\n",
    "    (3, 'Charlie');\n",
    "\"\"\")"
   ]
  },
  {
   "cell_type": "code",
   "execution_count": 8,
   "id": "4e1a7949",
   "metadata": {},
   "outputs": [
    {
     "name": "stdout",
     "output_type": "stream",
     "text": [
      "+---+-------+\n",
      "| id|   name|\n",
      "+---+-------+\n",
      "|  1|  Alice|\n",
      "|  2|    Bob|\n",
      "|  3|Charlie|\n",
      "+---+-------+\n",
      "\n"
     ]
    }
   ],
   "source": [
    "spark.sql(\"SELECT * FROM iceberg.default.sample_iceberg;\").show()"
   ]
  },
  {
   "cell_type": "markdown",
   "id": "07585c2d",
   "metadata": {},
   "source": [
    "Now you should see iceberg catalog."
   ]
  },
  {
   "cell_type": "code",
   "execution_count": 9,
   "id": "ab94e575",
   "metadata": {},
   "outputs": [
    {
     "name": "stdout",
     "output_type": "stream",
     "text": [
      "+-------------+\n",
      "|      catalog|\n",
      "+-------------+\n",
      "|      iceberg|\n",
      "|spark_catalog|\n",
      "+-------------+\n",
      "\n"
     ]
    }
   ],
   "source": [
    "spark.sql(\"SHOW CATALOGS;\").show()"
   ]
  },
  {
   "cell_type": "code",
   "execution_count": 10,
   "id": "4e2a8f13",
   "metadata": {},
   "outputs": [
    {
     "name": "stdout",
     "output_type": "stream",
     "text": [
      "+----------------------------+---------------------------------------------------+-------+\n",
      "|col_name                    |data_type                                          |comment|\n",
      "+----------------------------+---------------------------------------------------+-------+\n",
      "|id                          |int                                                |NULL   |\n",
      "|name                        |string                                             |NULL   |\n",
      "|                            |                                                   |       |\n",
      "|# Detailed Table Information|                                                   |       |\n",
      "|Name                        |spark_catalog.default.sample_delta                 |       |\n",
      "|Type                        |EXTERNAL                                           |       |\n",
      "|Location                    |s3a://lakehouse/delta/sample_delta                 |       |\n",
      "|Provider                    |delta                                              |       |\n",
      "|Owner                       |arthur                                             |       |\n",
      "|Table Properties            |[delta.minReaderVersion=1,delta.minWriterVersion=2]|       |\n",
      "+----------------------------+---------------------------------------------------+-------+\n",
      "\n"
     ]
    }
   ],
   "source": [
    "spark.sql(\"DESCRIBE EXTENDED spark_catalog.default.sample_delta;\").show(truncate=False)"
   ]
  },
  {
   "cell_type": "markdown",
   "id": "72edcb8d",
   "metadata": {},
   "source": [
    "Although this is the recommendation to fully clear delta lake tables, this seems to not be working since data persists on MinIO after vacuum and drop table."
   ]
  },
  {
   "cell_type": "code",
   "execution_count": 11,
   "id": "7f8ffbf1",
   "metadata": {},
   "outputs": [
    {
     "name": "stderr",
     "output_type": "stream",
     "text": [
      "                                                                                \r"
     ]
    },
    {
     "name": "stdout",
     "output_type": "stream",
     "text": [
      "Deleted 0 files and directories in a total of 1 directories.\n"
     ]
    },
    {
     "data": {
      "text/plain": [
       "DataFrame[path: string]"
      ]
     },
     "execution_count": 11,
     "metadata": {},
     "output_type": "execute_result"
    }
   ],
   "source": [
    "spark.sql(\"\"\"\n",
    "SET `spark.databricks.delta.retentionDurationCheck.enabled`=false\n",
    "\"\"\")\n",
    "\n",
    "spark.sql(\"\"\"\n",
    "VACUUM spark_catalog.default.sample_delta RETAIN 0 HOURS\n",
    "\"\"\")"
   ]
  },
  {
   "cell_type": "code",
   "execution_count": 12,
   "id": "ae9ccc08",
   "metadata": {},
   "outputs": [
    {
     "name": "stderr",
     "output_type": "stream",
     "text": [
      "                                                                                \r"
     ]
    },
    {
     "name": "stdout",
     "output_type": "stream",
     "text": [
      "Deleted 0 files and directories in a total of 1 directories.\n"
     ]
    },
    {
     "data": {
      "text/plain": [
       "DataFrame[path: string]"
      ]
     },
     "execution_count": 12,
     "metadata": {},
     "output_type": "execute_result"
    }
   ],
   "source": [
    "spark.sql(\"VACUUM delta.`s3a://lakehouse/delta/sample_delta` RETAIN 0 HOURS\")"
   ]
  },
  {
   "cell_type": "code",
   "execution_count": 13,
   "id": "b6973a04",
   "metadata": {},
   "outputs": [
    {
     "name": "stdout",
     "output_type": "stream",
     "text": [
      "+----------------------------+----------------------------------------------------------------------------------------------------------------------+-------+\n",
      "|col_name                    |data_type                                                                                                             |comment|\n",
      "+----------------------------+----------------------------------------------------------------------------------------------------------------------+-------+\n",
      "|id                          |int                                                                                                                   |NULL   |\n",
      "|name                        |string                                                                                                                |NULL   |\n",
      "|                            |                                                                                                                      |       |\n",
      "|# Metadata Columns          |                                                                                                                      |       |\n",
      "|_spec_id                    |int                                                                                                                   |       |\n",
      "|_partition                  |struct<>                                                                                                              |       |\n",
      "|_file                       |string                                                                                                                |       |\n",
      "|_pos                        |bigint                                                                                                                |       |\n",
      "|_deleted                    |boolean                                                                                                               |       |\n",
      "|                            |                                                                                                                      |       |\n",
      "|# Detailed Table Information|                                                                                                                      |       |\n",
      "|Name                        |iceberg.default.sample_iceberg                                                                                        |       |\n",
      "|Type                        |MANAGED                                                                                                               |       |\n",
      "|Location                    |s3a://lakehouse/iceberg/sample_iceberg                                                                                |       |\n",
      "|Provider                    |iceberg                                                                                                               |       |\n",
      "|Owner                       |arthur                                                                                                                |       |\n",
      "|Table Properties            |[current-snapshot-id=4671121188293750956,format=iceberg/parquet,format-version=2,write.parquet.compression-codec=zstd]|       |\n",
      "+----------------------------+----------------------------------------------------------------------------------------------------------------------+-------+\n",
      "\n"
     ]
    }
   ],
   "source": [
    "spark.sql(\"DESCRIBE EXTENDED iceberg.default.sample_iceberg;\").show(truncate=False)"
   ]
  },
  {
   "cell_type": "markdown",
   "id": "23a6296b",
   "metadata": {},
   "source": [
    "Iceberg drops fully (data, iceberg metadata and hive metadata) when this is applied before drop table."
   ]
  },
  {
   "cell_type": "code",
   "execution_count": 14,
   "id": "e9d9727f",
   "metadata": {},
   "outputs": [
    {
     "data": {
      "text/plain": [
       "DataFrame[orphan_file_location: string]"
      ]
     },
     "execution_count": 14,
     "metadata": {},
     "output_type": "execute_result"
    }
   ],
   "source": [
    "spark.sql(\"\"\"\n",
    "CALL iceberg.system.expire_snapshots(table => 'default.sample_iceberg', older_than => TIMESTAMP '2025-08-01 00:00:00')\n",
    "\"\"\")\n",
    "\n",
    "spark.sql(\"\"\"\n",
    "CALL iceberg.system.remove_orphan_files(table => 'default.sample_iceberg', older_than => TIMESTAMP '2025-08-01 00:00:00')\n",
    "\"\"\")"
   ]
  },
  {
   "cell_type": "markdown",
   "id": "29a7ebc6",
   "metadata": {},
   "source": [
    "---\n",
    "\n",
    "## Clear tables\n",
    "\n",
    "Purge is used to assure that data has been fully dropped.\n",
    "\n",
    "**NOTE:** external tables data are not deleted from object storage. \n",
    "\n",
    "When we use \"LOCATION 's3a://lakehouse/iceberg/sample_iceberg';\", data should be fully managed by us."
   ]
  },
  {
   "cell_type": "code",
   "execution_count": 15,
   "id": "3ed95015",
   "metadata": {},
   "outputs": [
    {
     "data": {
      "text/plain": [
       "DataFrame[]"
      ]
     },
     "execution_count": 15,
     "metadata": {},
     "output_type": "execute_result"
    }
   ],
   "source": [
    "spark.sql(\"DROP TABLE IF EXISTS iceberg.default.sample_iceberg PURGE;\")\n",
    "spark.sql(\"DROP TABLE IF EXISTS spark_catalog.default.sample_delta PURGE;\")"
   ]
  }
 ],
 "metadata": {
  "kernelspec": {
   "display_name": ".venv",
   "language": "python",
   "name": "python3"
  },
  "language_info": {
   "codemirror_mode": {
    "name": "ipython",
    "version": 3
   },
   "file_extension": ".py",
   "mimetype": "text/x-python",
   "name": "python",
   "nbconvert_exporter": "python",
   "pygments_lexer": "ipython3",
   "version": "3.13.1"
  }
 },
 "nbformat": 4,
 "nbformat_minor": 5
}
